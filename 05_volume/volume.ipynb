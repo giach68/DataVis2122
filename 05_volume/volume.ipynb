{
 "cells": [
  {
   "cell_type": "markdown",
   "metadata": {},
   "source": [
    "\n",
    "Volume Rendering\n",
    "~~~~~~~~~~~~~~~~\n",
    "\n",
    "Volume render uniform mesh types like :class:`pyvista.UniformGrid` or 3D\n",
    "NumPy arrays.\n",
    "\n",
    "This also explores how to extract a volume of interest (VOI) from a\n",
    ":class:`pyvista.UniformGrid` using the\n",
    ":func:`pyvista.UniformGridFilters.extract_subset` filter.\n"
   ]
  },
  {
   "cell_type": "code",
   "execution_count": 1,
   "metadata": {},
   "outputs": [
    {
     "data": {
      "text/html": [
       "<table><tr><th>Header</th><th>Data Arrays</th></tr><tr><td>\n",
       "<table>\n",
       "<tr><th>UniformGrid</th><th>Information</th></tr>\n",
       "<tr><td>N Cells</td><td>10225800</td></tr>\n",
       "<tr><td>N Points</td><td>10368384</td></tr>\n",
       "<tr><td>X Bounds</td><td>0.000e+00, 1.497e+02</td></tr>\n",
       "<tr><td>Y Bounds</td><td>0.000e+00, 1.786e+02</td></tr>\n",
       "<tr><td>Z Bounds</td><td>0.000e+00, 2.000e+02</td></tr>\n",
       "<tr><td>Dimensions</td><td>208, 248, 201</td></tr>\n",
       "<tr><td>Spacing</td><td>7.230e-01, 7.230e-01, 1.000e+00</td></tr>\n",
       "<tr><td>N Arrays</td><td>1</td></tr>\n",
       "</table>\n",
       "\n",
       "</td><td>\n",
       "<table>\n",
       "<tr><th>Name</th><th>Field</th><th>Type</th><th>N Comp</th><th>Min</th><th>Max</th></tr>\n",
       "<tr><td><b>SLCImage</b></td><td>Points</td><td>uint8</td><td>1</td><td>0.000e+00</td><td>1.740e+02</td></tr>\n",
       "</table>\n",
       "\n",
       "</td></tr> </table>"
      ],
      "text/plain": [
       "UniformGrid (0x2345c8b3b88)\n",
       "  N Cells:\t10225800\n",
       "  N Points:\t10368384\n",
       "  X Bounds:\t0.000e+00, 1.497e+02\n",
       "  Y Bounds:\t0.000e+00, 1.786e+02\n",
       "  Z Bounds:\t0.000e+00, 2.000e+02\n",
       "  Dimensions:\t208, 248, 201\n",
       "  Spacing:\t7.230e-01, 7.230e-01, 1.000e+00\n",
       "  N Arrays:\t1"
      ]
     },
     "execution_count": 1,
     "metadata": {},
     "output_type": "execute_result"
    }
   ],
   "source": [
    "# sphinx_gallery_thumbnail_number = 3\n",
    "import pyvista as pv\n",
    "from pyvista import examples\n",
    "pv.rcParams['use_ipyvtk'] = True\n",
    "\n",
    "# Download a volumetric dataset\n",
    "vol = examples.download_knee_full()\n",
    "vol"
   ]
  },
  {
   "cell_type": "markdown",
   "metadata": {},
   "source": [
    "Simple Volume Render\n",
    "++++++++++++++++++++\n",
    "\n",
    "\n"
   ]
  },
  {
   "cell_type": "code",
   "execution_count": 4,
   "metadata": {},
   "outputs": [
    {
     "data": {
      "application/vnd.jupyter.widget-view+json": {
       "model_id": "7ca79edf15a54b4a92192cee297cde03",
       "version_major": 2,
       "version_minor": 0
      },
      "text/plain": [
       "ViewInteractiveWidget(height=768, layout=Layout(height='auto', width='100%'), width=1024)"
      ]
     },
     "metadata": {},
     "output_type": "display_data"
    },
    {
     "data": {
      "text/plain": [
       "([(-381.74, -46.02, 216.54),\n",
       "  (74.8305, 89.2905, 100.0),\n",
       "  (0.23011692910752757, 0.07203660389453036, 0.9704931358013119)],)"
      ]
     },
     "execution_count": 4,
     "metadata": {},
     "output_type": "execute_result"
    }
   ],
   "source": [
    "# A nice camera position\n",
    "cpos = [(-381.74, -46.02, 216.54), (74.8305, 89.2905, 100.0), (0.23, 0.072, 0.97)]\n",
    "\n",
    "vol.plot(volume=True, cmap=\"bone\", cpos=cpos), "
   ]
  },
  {
   "cell_type": "markdown",
   "metadata": {},
   "source": [
    "Opacity Mappings\n",
    "++++++++++++++++\n",
    "\n",
    "Or use the :func:`pyvista.BasePlotter.add_volume` method like below.\n",
    "Note that here we use a non-default opacity mapping to a sigmoid:\n",
    "\n"
   ]
  },
  {
   "cell_type": "code",
   "execution_count": 5,
   "metadata": {},
   "outputs": [
    {
     "data": {
      "application/vnd.jupyter.widget-view+json": {
       "model_id": "87851bb9aa7e49c7a163aba5cf0b420b",
       "version_major": 2,
       "version_minor": 0
      },
      "text/plain": [
       "ViewInteractiveWidget(height=768, layout=Layout(height='auto', width='100%'), width=1024)"
      ]
     },
     "metadata": {},
     "output_type": "display_data"
    },
    {
     "data": {
      "text/plain": [
       "[(-381.74, -46.02, 216.54),\n",
       " (74.8305, 89.2905, 100.0),\n",
       " (0.23011692910752757, 0.07203660389453036, 0.9704931358013119)]"
      ]
     },
     "execution_count": 5,
     "metadata": {},
     "output_type": "execute_result"
    }
   ],
   "source": [
    "p = pv.Plotter()\n",
    "p.add_volume(vol, cmap=\"bone\", opacity=\"sigmoid\")\n",
    "p.camera_position = cpos\n",
    "p.show()"
   ]
  },
  {
   "cell_type": "markdown",
   "metadata": {},
   "source": [
    "You can also use a custom opacity mapping\n",
    "\n"
   ]
  },
  {
   "cell_type": "code",
   "execution_count": 6,
   "metadata": {},
   "outputs": [
    {
     "data": {
      "application/vnd.jupyter.widget-view+json": {
       "model_id": "e97dc52bac3040d5aeddcc854323d43f",
       "version_major": 2,
       "version_minor": 0
      },
      "text/plain": [
       "ViewInteractiveWidget(height=768, layout=Layout(height='auto', width='100%'), width=1024)"
      ]
     },
     "metadata": {},
     "output_type": "display_data"
    },
    {
     "data": {
      "text/plain": [
       "[(-381.74, -46.02, 216.54),\n",
       " (74.8305, 89.2905, 100.0),\n",
       " (0.23011692910752757, 0.07203660389453036, 0.9704931358013119)]"
      ]
     },
     "execution_count": 6,
     "metadata": {},
     "output_type": "execute_result"
    }
   ],
   "source": [
    "opacity = [0, 0, 0, 0.1, 0.3, 0.6, 1]\n",
    "\n",
    "p = pv.Plotter()\n",
    "p.add_volume(vol, cmap=\"viridis\", opacity=opacity)\n",
    "p.camera_position = cpos\n",
    "p.show()"
   ]
  },
  {
   "cell_type": "markdown",
   "metadata": {},
   "source": [
    "We can also use a shading technique when volume rendering with the ``shade``\n",
    "option\n",
    "\n"
   ]
  },
  {
   "cell_type": "markdown",
   "metadata": {},
   "source": [
    "Cool Volume Examples\n",
    "++++++++++++++++++++\n",
    "\n",
    "Here are a few more cool volume rendering examples\n",
    "\n"
   ]
  },
  {
   "cell_type": "code",
   "execution_count": 7,
   "metadata": {},
   "outputs": [
    {
     "data": {
      "application/vnd.jupyter.widget-view+json": {
       "model_id": "8fd458e2401047c09891f6c5b3271c72",
       "version_major": 2,
       "version_minor": 0
      },
      "text/plain": [
       "ViewInteractiveWidget(height=768, layout=Layout(height='auto', width='100%'), width=1024)"
      ]
     },
     "metadata": {},
     "output_type": "display_data"
    },
    {
     "data": {
      "text/plain": [
       "[(-228.0, -418.0, -158.0),\n",
       " (94.0, 122.0, 82.0),\n",
       " (-0.20628424925175867, -0.309426373877638, 0.928279121632914)]"
      ]
     },
     "execution_count": 7,
     "metadata": {},
     "output_type": "execute_result"
    }
   ],
   "source": [
    "head = examples.download_head()\n",
    "\n",
    "p = pv.Plotter()\n",
    "p.add_volume(head, cmap=\"cool\", opacity=\"sigmoid_6\")\n",
    "p.camera_position = [(-228.0, -418.0, -158.0), (94.0, 122.0, 82.0), (-0.2, -0.3, 0.9)]\n",
    "p.show()"
   ]
  },
  {
   "cell_type": "code",
   "execution_count": 8,
   "metadata": {},
   "outputs": [
    {
     "data": {
      "application/vnd.jupyter.widget-view+json": {
       "model_id": "96a177f57078486397b39d218d19a348",
       "version_major": 2,
       "version_minor": 0
      },
      "text/plain": [
       "ViewInteractiveWidget(height=768, layout=Layout(height='auto', width='100%'), width=1024)"
      ]
     },
     "metadata": {},
     "output_type": "display_data"
    },
    {
     "data": {
      "text/plain": [
       "[(-381.74, -46.02, 216.54),\n",
       " (74.8305, 89.2905, 100.0),\n",
       " (0.23011692910752757, 0.07203660389453036, 0.9704931358013119)]"
      ]
     },
     "execution_count": 8,
     "metadata": {},
     "output_type": "execute_result"
    }
   ],
   "source": [
    "p = pv.Plotter(shape=(1,2))\n",
    "p.add_volume(vol, cmap=\"viridis\", opacity=opacity, shade=False)\n",
    "p.add_text(\"No shading\")\n",
    "p.subplot(0,1)\n",
    "p.add_volume(vol, cmap=\"viridis\", opacity=opacity, shade=True)\n",
    "p.add_text(\"Shading\")\n",
    "p.link_views()\n",
    "p.camera_position = cpos\n",
    "p.show()\n",
    "# try to add light!"
   ]
  },
  {
   "cell_type": "code",
   "execution_count": 9,
   "metadata": {},
   "outputs": [
    {
     "data": {
      "application/vnd.jupyter.widget-view+json": {
       "model_id": "bbca1c150d1d44759a17d15309f213bb",
       "version_major": 2,
       "version_minor": 0
      },
      "text/plain": [
       "ViewInteractiveWidget(height=768, layout=Layout(height='auto', width='100%'), width=1024)"
      ]
     },
     "metadata": {},
     "output_type": "display_data"
    },
    {
     "data": {
      "text/plain": [
       "[(206.821456176791, 233.321456176791, 204.821456176791),\n",
       " (34.5, 61.0, 32.5),\n",
       " (0.0, 0.0, 1.0)]"
      ]
     },
     "execution_count": 9,
     "metadata": {},
     "output_type": "execute_result"
    }
   ],
   "source": [
    "bolt_nut = examples.download_bolt_nut()\n",
    "\n",
    "p = pv.Plotter()\n",
    "p.add_volume(bolt_nut, cmap=\"coolwarm\", opacity=\"sigmoid_5\")\n",
    "p.show()"
   ]
  },
  {
   "cell_type": "code",
   "execution_count": 12,
   "metadata": {},
   "outputs": [
    {
     "data": {
      "application/vnd.jupyter.widget-view+json": {
       "model_id": "965e4638f0e140eab982d3204eaa4e4a",
       "version_major": 2,
       "version_minor": 0
      },
      "text/plain": [
       "ViewInteractiveWidget(height=768, layout=Layout(height='auto', width='100%'), width=1024)"
      ]
     },
     "metadata": {},
     "output_type": "display_data"
    },
    {
     "data": {
      "text/plain": [
       "[(929.0, 1067.0, -278.9),\n",
       " (249.5, 234.5, 101.25),\n",
       " (-0.20481018239133267, -0.2632130859638611, -0.942746869825729)]"
      ]
     },
     "execution_count": 12,
     "metadata": {},
     "output_type": "execute_result"
    }
   ],
   "source": [
    "frog = examples.download_frog()\n",
    "\n",
    "p = pv.Plotter()\n",
    "p.add_volume(frog, cmap=\"viridis\", opacity=\"sigmoid_6\")\n",
    "p.camera_position = [(929., 1067., -278.9),\n",
    "                     (249.5, 234.5, 101.25),\n",
    "                     (-0.2048, -0.2632, -0.9427)]\n",
    "p.show()"
   ]
  },
  {
   "cell_type": "markdown",
   "metadata": {},
   "source": [
    "Extracting a VOI\n",
    "++++++++++++++++\n",
    "\n",
    "Use the :func:`pyvista.UniformGridFilters.extract_subset` filter to extract\n",
    "a volume of interest/subset volume to volume render. This is ideal when\n",
    "dealing with particularly large volumes and you want to volume render only\n",
    "a specific region.\n",
    "\n"
   ]
  },
  {
   "cell_type": "code",
   "execution_count": 13,
   "metadata": {},
   "outputs": [
    {
     "data": {
      "text/html": [
       "<table><tr><th>Header</th><th>Data Arrays</th></tr><tr><td>\n",
       "<table>\n",
       "<tr><th>UniformGrid</th><th>Information</th></tr>\n",
       "<tr><td>N Cells</td><td>11003760</td></tr>\n",
       "<tr><td>N Points</td><td>11156040</td></tr>\n",
       "<tr><td>X Bounds</td><td>4.130e+05, 6.920e+05</td></tr>\n",
       "<tr><td>Y Bounds</td><td>3.864e+06, 4.096e+06</td></tr>\n",
       "<tr><td>Z Bounds</td><td>-5.479e+04, 5.302e+03</td></tr>\n",
       "<tr><td>Dimensions</td><td>280, 233, 171</td></tr>\n",
       "<tr><td>Spacing</td><td>1.000e+03, 1.000e+03, 3.535e+02</td></tr>\n",
       "<tr><td>N Arrays</td><td>1</td></tr>\n",
       "</table>\n",
       "\n",
       "</td><td>\n",
       "<table>\n",
       "<tr><th>Name</th><th>Field</th><th>Type</th><th>N Comp</th><th>Min</th><th>Max</th></tr>\n",
       "<tr><td><b>data</b></td><td>Points</td><td>float32</td><td>1</td><td>9.782e-15</td><td>1.000e+02</td></tr>\n",
       "</table>\n",
       "\n",
       "</td></tr> </table>"
      ],
      "text/plain": [
       "UniformGrid (0x23435cea588)\n",
       "  N Cells:\t11003760\n",
       "  N Points:\t11156040\n",
       "  X Bounds:\t4.130e+05, 6.920e+05\n",
       "  Y Bounds:\t3.864e+06, 4.096e+06\n",
       "  Z Bounds:\t-5.479e+04, 5.302e+03\n",
       "  Dimensions:\t280, 233, 171\n",
       "  Spacing:\t1.000e+03, 1.000e+03, 3.535e+02\n",
       "  N Arrays:\t1"
      ]
     },
     "execution_count": 13,
     "metadata": {},
     "output_type": "execute_result"
    }
   ],
   "source": [
    "# Load a particularly large volume\n",
    "large_vol = examples.download_damavand_volcano()\n",
    "large_vol"
   ]
  },
  {
   "cell_type": "code",
   "execution_count": 14,
   "metadata": {},
   "outputs": [
    {
     "data": {
      "application/vnd.jupyter.widget-view+json": {
       "model_id": "556b3eef344b49048ec3093318bfbd75",
       "version_major": 2,
       "version_minor": 0
      },
      "text/plain": [
       "ViewInteractiveWidget(height=768, layout=Layout(height='auto', width='100%'), width=1024)"
      ]
     },
     "metadata": {},
     "output_type": "display_data"
    },
    {
     "data": {
      "text/plain": [
       "[(962759.682893736, 4390399.944685736, 385481.9418857361),\n",
       " (552532.741008, 3980173.0028, -24745.0),\n",
       " (0.0, 0.0, 1.0)]"
      ]
     },
     "execution_count": 14,
     "metadata": {},
     "output_type": "execute_result"
    }
   ],
   "source": [
    "opacity = [0, 0.75, 0, 0.75, 1.0]\n",
    "clim = [0, 100]\n",
    "\n",
    "p = pv.Plotter()\n",
    "p.add_volume(large_vol, cmap=\"magma\", clim=clim,\n",
    "             opacity=opacity, opacity_unit_distance=6000,)\n",
    "p.show()"
   ]
  },
  {
   "cell_type": "markdown",
   "metadata": {},
   "source": [
    "Woah, that's a big volume! We probably don't want to volume render the\n",
    "whole thing. So let's extract a region of interest under the volcano.\n",
    "\n",
    "The region we will extract will be between nodes 175 and 200 on the x-axis,\n",
    "between nodes 105 and 132 on the y-axis, and between nodes 98 and 170 on\n",
    "the z-axis.\n",
    "\n"
   ]
  },
  {
   "cell_type": "code",
   "execution_count": 15,
   "metadata": {},
   "outputs": [
    {
     "data": {
      "application/vnd.jupyter.widget-view+json": {
       "model_id": "3d6ed54a3d1448f6ab03aed009d2f3e7",
       "version_major": 2,
       "version_minor": 0
      },
      "text/plain": [
       "ViewInteractiveWidget(height=768, layout=Layout(height='auto', width='100%'), width=1024)"
      ]
     },
     "metadata": {},
     "output_type": "display_data"
    },
    {
     "data": {
      "text/plain": [
       "[(962759.6918857361, 4390399.941885736, 385481.9418857361),\n",
       " (552532.75, 3980173.0, -24745.0),\n",
       " (0.0, 0.0, 1.0)]"
      ]
     },
     "execution_count": 15,
     "metadata": {},
     "output_type": "execute_result"
    }
   ],
   "source": [
    "voi = large_vol.extract_subset([175, 200, 105, 132, 98, 170])\n",
    "\n",
    "p = pv.Plotter()\n",
    "p.add_mesh(large_vol.outline(), color=\"k\")\n",
    "p.add_mesh(voi, cmap=\"magma\")\n",
    "p.show()"
   ]
  },
  {
   "cell_type": "markdown",
   "metadata": {},
   "source": [
    "Ah, much better. Let's now volume render that region of interest!\n",
    "\n"
   ]
  },
  {
   "cell_type": "code",
   "execution_count": 16,
   "metadata": {},
   "outputs": [
    {
     "data": {
      "application/vnd.jupyter.widget-view+json": {
       "model_id": "ed3e759d55b84c2785c7487123165fed",
       "version_major": 2,
       "version_minor": 0
      },
      "text/plain": [
       "ViewInteractiveWidget(height=768, layout=Layout(height='auto', width='100%'), width=1024)"
      ]
     },
     "metadata": {},
     "output_type": "display_data"
    },
    {
     "data": {
      "text/plain": [
       "[(531554.5542909054, 3944331.800171338, 26563.04809259223),\n",
       " (599088.1433822059, 3982089.287834022, -11965.14728669936),\n",
       " (0.37385458924157344, 0.24431281037731903, 0.8947312427698894)]"
      ]
     },
     "execution_count": 16,
     "metadata": {},
     "output_type": "execute_result"
    }
   ],
   "source": [
    "p = pv.Plotter()\n",
    "p.add_volume(voi, cmap=\"magma\", clim=clim, opacity=opacity,\n",
    "             opacity_unit_distance=2000)\n",
    "p.camera_position = [(531554.5542909054, 3944331.800171338, 26563.04809259223),\n",
    " (599088.1433822059, 3982089.287834022, -11965.14728669936),\n",
    " (0.3738545892415734, 0.244312810377319, 0.8947312427698892)]\n",
    "p.show()"
   ]
  },
  {
   "cell_type": "code",
   "execution_count": null,
   "metadata": {},
   "outputs": [],
   "source": []
  },
  {
   "cell_type": "code",
   "execution_count": null,
   "metadata": {},
   "outputs": [],
   "source": []
  },
  {
   "cell_type": "code",
   "execution_count": null,
   "metadata": {},
   "outputs": [],
   "source": []
  }
 ],
 "metadata": {
  "kernelspec": {
   "display_name": "Python 3",
   "language": "python",
   "name": "python3"
  },
  "language_info": {
   "codemirror_mode": {
    "name": "ipython",
    "version": 3
   },
   "file_extension": ".py",
   "mimetype": "text/x-python",
   "name": "python",
   "nbconvert_exporter": "python",
   "pygments_lexer": "ipython3",
   "version": "3.7.1"
  }
 },
 "nbformat": 4,
 "nbformat_minor": 1
}
