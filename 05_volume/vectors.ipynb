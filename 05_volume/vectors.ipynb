{
 "cells": [
  {
   "cell_type": "code",
   "execution_count": 1,
   "id": "544bc3ad",
   "metadata": {},
   "outputs": [],
   "source": [
    "import numpy as np\n",
    "import pyvista as pv\n",
    "from pyvista import examples\n",
    "pv.rcParams['use_ipyvtk'] = True"
   ]
  },
  {
   "cell_type": "code",
   "execution_count": 2,
   "id": "27985738",
   "metadata": {},
   "outputs": [
    {
     "data": {
      "application/vnd.jupyter.widget-view+json": {
       "model_id": "",
       "version_major": 2,
       "version_minor": 0
      },
      "text/plain": [
       "ViewInteractiveWidget(height=768, layout=Layout(height='auto', width='100%'), width=1024)"
      ]
     },
     "metadata": {},
     "output_type": "display_data"
    },
    {
     "data": {
      "text/plain": [
       "[(12.5513618839598, 12.40606614478591, 12.405708636126548),\n",
       " (0.0, -0.14529573917388916, -0.14565324783325195),\n",
       " (0.0, 0.0, 1.0)]"
      ]
     },
     "execution_count": 2,
     "metadata": {},
     "output_type": "execute_result"
    }
   ],
   "source": [
    "sphere = pv.Sphere(radius=3.14)\n",
    "\n",
    "# make cool swirly pattern\n",
    "vectors = np.vstack(\n",
    "    (\n",
    "        np.sin(sphere.points[:, 0]),\n",
    "        np.cos(sphere.points[:, 1]),\n",
    "        np.cos(sphere.points[:, 2]),\n",
    "    )\n",
    ").T\n",
    "\n",
    "# add and scale\n",
    "sphere.vectors = vectors * 0.3\n",
    "\n",
    "# plot just the arrows\n",
    "sphere.arrows.plot(scalars='GlyphScale')"
   ]
  },
  {
   "cell_type": "code",
   "execution_count": 3,
   "id": "7e7bcec7",
   "metadata": {},
   "outputs": [
    {
     "data": {
      "application/vnd.jupyter.widget-view+json": {
       "model_id": "1d11527c47fc482685eed86d9618edec",
       "version_major": 2,
       "version_minor": 0
      },
      "text/plain": [
       "ViewInteractiveWidget(height=768, layout=Layout(height='auto', width='100%'), width=1024)"
      ]
     },
     "metadata": {},
     "output_type": "display_data"
    },
    {
     "data": {
      "text/plain": [
       "[(34.993665425011, 45.120623825022065, 39.33712918860563),\n",
       " (-0.044190406799316406, 10.082767993211746, 4.299273356795311),\n",
       " (0.0, 0.0, 1.0)]"
      ]
     },
     "execution_count": 3,
     "metadata": {},
     "output_type": "execute_result"
    }
   ],
   "source": [
    "# Example dataset with normals\n",
    "mesh = examples.load_random_hills()\n",
    "\n",
    "# create a subset of arrows using the glyph filter\n",
    "arrows = mesh.glyph(scale=\"Normals\", orient=\"Normals\", tolerance=0.05)\n",
    "\n",
    "p = pv.Plotter()\n",
    "p.add_mesh(arrows, color=\"black\")\n",
    "p.add_mesh(mesh, scalars=\"Elevation\", cmap=\"terrain\")\n",
    "p.show()"
   ]
  },
  {
   "cell_type": "code",
   "execution_count": 4,
   "id": "e6baeee0",
   "metadata": {},
   "outputs": [
    {
     "data": {
      "application/vnd.jupyter.widget-view+json": {
       "model_id": "2512d068b62f455bae4214850589a3fa",
       "version_major": 2,
       "version_minor": 0
      },
      "text/plain": [
       "ViewInteractiveWidget(height=768, layout=Layout(height='auto', width='100%'), width=1024)"
      ]
     },
     "metadata": {},
     "output_type": "display_data"
    },
    {
     "data": {
      "text/plain": [
       "[(10.0, 9.5, -43.0),\n",
       " (87.0, 73.5, 123.0),\n",
       " (-0.502518907629606, -0.7035264706814484, 0.502518907629606)]"
      ]
     },
     "execution_count": 4,
     "metadata": {},
     "output_type": "execute_result"
    }
   ],
   "source": [
    "mesh = examples.download_blood_vessels().cell_data_to_point_data()\n",
    "mesh.set_active_scalars(\"velocity\")\n",
    "streamlines, src = mesh.streamlines(\n",
    "    return_source=True, source_radius=10, source_center=(92.46, 74.37, 135.5)\n",
    ")\n",
    "\n",
    "boundary = mesh.decimate_boundary().extract_all_edges()\n",
    "\n",
    "p = pv.Plotter()\n",
    "p.add_mesh(streamlines.tube(radius=0.2), lighting=False)\n",
    "p.add_mesh(src)\n",
    "p.add_mesh(boundary, color=\"grey\", opacity=0.25)\n",
    "p.camera_position = [(10, 9.5, -43), (87.0, 73.5, 123.0), (-0.5, -0.7, 0.5)]\n",
    "p.show()"
   ]
  },
  {
   "cell_type": "code",
   "execution_count": null,
   "id": "19eed87e",
   "metadata": {},
   "outputs": [],
   "source": []
  }
 ],
 "metadata": {
  "kernelspec": {
   "display_name": "Python 3",
   "language": "python",
   "name": "python3"
  },
  "language_info": {
   "codemirror_mode": {
    "name": "ipython",
    "version": 3
   },
   "file_extension": ".py",
   "mimetype": "text/x-python",
   "name": "python",
   "nbconvert_exporter": "python",
   "pygments_lexer": "ipython3",
   "version": "3.7.1"
  }
 },
 "nbformat": 4,
 "nbformat_minor": 5
}
