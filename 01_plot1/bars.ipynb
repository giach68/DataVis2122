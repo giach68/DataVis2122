{
 "cells": [
  {
   "cell_type": "code",
   "execution_count": 1,
   "metadata": {},
   "outputs": [],
   "source": [
    "import matplotlib.pyplot as plt\n",
    "import numpy as np"
   ]
  },
  {
   "cell_type": "markdown",
   "metadata": {},
   "source": [
    "# Vertical bar charts\n",
    "\n",
    "**Purpose**: Comparing categories **OR** showing temporal trends in data with few (< 4) time points.\n",
    "\n",
    "**matplotlib function**: [`bar(left, height)`](http://matplotlib.org/api/pyplot_api.html#matplotlib.pyplot.bar)\n",
    "\n",
    "* `left`: The x coordinate(s) of the left sides of the bars.\n",
    "\n",
    "* `height`: The height(s) of the bars."
   ]
  },
  {
   "cell_type": "code",
   "execution_count": 2,
   "metadata": {},
   "outputs": [
    {
     "data": {
      "text/plain": [
       "''"
      ]
     },
     "execution_count": 2,
     "metadata": {},
     "output_type": "execute_result"
    },
    {
     "data": {
      "image/png": "[encoded data removed]",
      "text/plain": [
       "<Figure size 432x288 with 1 Axes>"
      ]
     },
     "metadata": {
      "needs_background": "light"
     },
     "output_type": "display_data"
    }
   ],
   "source": [
    "years = np.arange(2012, 2015)\n",
    "values = [2, 5, 9]\n",
    "\n",
    "plt.figure()\n",
    "\n",
    "plt.bar(years, values)\n",
    ";"
   ]
  },
  {
   "cell_type": "markdown",
   "metadata": {},
   "source": [
    "**Commonly used parameters**:\n",
    "\n",
    "* `color`: Set the color of the bars.\n",
    "\n",
    "* `edgecolor`: Set the color of the lines on the edges of the bars.\n",
    "\n",
    "* `width`: Set the width of the bars.\n",
    "\n",
    "* `align`: Set the alignment of the bars, e.g., center them on the x coordinate(s).\n",
    "\n",
    "* `label`: Set the label for the bar that will show up in the legend."
   ]
  },
  {
   "cell_type": "code",
   "execution_count": 3,
   "metadata": {},
   "outputs": [
    {
     "data": {
      "text/plain": [
       "''"
      ]
     },
     "execution_count": 3,
     "metadata": {},
     "output_type": "execute_result"
    },
    {
     "data": {
      "image/png": "[encoded data removed]",
      "text/plain": [
       "<Figure size 432x288 with 1 Axes>"
      ]
     },
     "metadata": {
      "needs_background": "light"
     },
     "output_type": "display_data"
    }
   ],
   "source": [
    "years = np.arange(2012, 2015)\n",
    "category1_values = [2, 5, 9]\n",
    "category2_values = [7, 6, 3]\n",
    "\n",
    "plt.figure()\n",
    "\n",
    "plt.bar(years - 0.2,\n",
    "        category1_values,\n",
    "        color='blue',\n",
    "        edgecolor='none',\n",
    "        width=0.4,\n",
    "        align='center',\n",
    "        label='y1')\n",
    "\n",
    "plt.bar(years + 0.2,\n",
    "        category2_values,\n",
    "        color='orange',\n",
    "        edgecolor='none',\n",
    "        width=0.4,\n",
    "        align='center',\n",
    "        label='y2')\n",
    "\n",
    "plt.xticks(years, [str(year) for year in years])\n",
    "\n",
    "plt.legend()\n",
    ";"
   ]
  },
  {
   "cell_type": "markdown",
   "metadata": {},
   "source": [
    "# Horizontal bar charts\n",
    "\n",
    "**Purpose**: Comparing categories.\n",
    "\n",
    "**matplotlib function**: [`barh(bottom, width)`](http://matplotlib.org/api/pyplot_api.html#matplotlib.pyplot.barh)\n",
    "\n",
    "* `bottom`: The y coordinate(s) of the bars.\n",
    "\n",
    "* `width`: The width(s) of the bars."
   ]
  },
  {
   "cell_type": "code",
   "execution_count": 4,
   "metadata": {},
   "outputs": [
    {
     "data": {
      "text/plain": [
       "''"
      ]
     },
     "execution_count": 4,
     "metadata": {},
     "output_type": "execute_result"
    },
    {
     "data": {
      "image/png": "[encoded data removed]",
      "text/plain": [
       "<Figure size 432x288 with 1 Axes>"
      ]
     },
     "metadata": {
      "needs_background": "light"
     },
     "output_type": "display_data"
    }
   ],
   "source": [
    "categories = ['A', 'B', 'C', 'D', 'E']\n",
    "values = [7, 12, 4, 2, 9]\n",
    "\n",
    "plt.figure()\n",
    "\n",
    "plt.barh(np.arange(len(categories)), values)\n",
    "\n",
    "plt.yticks(np.arange(len(categories)),\n",
    "           ['Category {}'.format(x) for x in categories])\n",
    ";"
   ]
  },
  {
   "cell_type": "code",
   "execution_count": 5,
   "metadata": {},
   "outputs": [
    {
     "data": {
      "text/plain": [
       "''"
      ]
     },
     "execution_count": 5,
     "metadata": {},
     "output_type": "execute_result"
    },
    {
     "data": {
      "image/png": "[encoded data removed]",
      "text/plain": [
       "<Figure size 432x288 with 1 Axes>"
      ]
     },
     "metadata": {
      "needs_background": "light"
     },
     "output_type": "display_data"
    }
   ],
   "source": [
    "categories = ['A', 'B', 'C', 'D', 'E']\n",
    "values = [7, 12, 4, 2, 9]\n",
    "\n",
    "plt.figure()\n",
    "\n",
    "plt.barh(-np.arange(len(categories)), values)\n",
    "\n",
    "plt.yticks(-np.arange(len(categories)),\n",
    "           ['Category {}'.format(x) for x in categories])\n",
    ";"
   ]
  },
  {
   "cell_type": "markdown",
   "metadata": {},
   "source": [
    "**Commonly used parameters**:\n",
    "\n",
    "* `color`: Set the color of the bars.\n",
    "\n",
    "* `edgecolor`: Set the color of the lines on the edges of the bars.\n",
    "\n",
    "* `height`: Set the height of the bars.\n",
    "\n",
    "* `align`: Set the alignment of the bars, e.g., center them on the y coordinate(s)."
   ]
  },
  {
   "cell_type": "code",
   "execution_count": 6,
   "metadata": {},
   "outputs": [
    {
     "data": {
      "text/plain": [
       "([<matplotlib.axis.YTick at 0x22df25ed908>,\n",
       "  <matplotlib.axis.YTick at 0x22df25ed2b0>,\n",
       "  <matplotlib.axis.YTick at 0x22df25dceb8>,\n",
       "  <matplotlib.axis.YTick at 0x22df2620198>,\n",
       "  <matplotlib.axis.YTick at 0x22df2620438>],\n",
       " [Text(0, 0, 'Category A'),\n",
       "  Text(0, -1, 'Category B'),\n",
       "  Text(0, -2, 'Category C'),\n",
       "  Text(0, -3, 'Category D'),\n",
       "  Text(0, -4, 'Category E')])"
      ]
     },
     "execution_count": 6,
     "metadata": {},
     "output_type": "execute_result"
    },
    {
     "data": {
      "image/png": "[encoded data removed]",
      "text/plain": [
       "<Figure size 432x288 with 1 Axes>"
      ]
     },
     "metadata": {
      "needs_background": "light"
     },
     "output_type": "display_data"
    }
   ],
   "source": [
    "categories = ['A', 'B', 'C', 'D', 'E']\n",
    "values = [7, 12, 4, 2, 9]\n",
    "\n",
    "plt.figure()\n",
    "\n",
    "plt.barh(-np.arange(len(categories)),\n",
    "         values,\n",
    "         color='blue',\n",
    "         edgecolor='none',\n",
    "         height=0.6,\n",
    "         align='center')\n",
    "\n",
    "plt.yticks(-np.arange(len(categories)),\n",
    "           ['Category {}'.format(x) for x in categories])\n"
   ]
  },
  {
   "cell_type": "code",
   "execution_count": 17,
   "metadata": {},
   "outputs": [
    {
     "data": {
      "text/plain": [
       "''"
      ]
     },
     "execution_count": 17,
     "metadata": {},
     "output_type": "execute_result"
    },
    {
     "data": {
      "image/png": "[encoded data removed]",
      "text/plain": [
       "<Figure size 432x288 with 1 Axes>"
      ]
     },
     "metadata": {
      "needs_background": "light"
     },
     "output_type": "display_data"
    }
   ],
   "source": [
    "import pandas as pd\n",
    "\n",
    "categories = ['A', 'B', 'C', 'D', 'E']\n",
    "values = [7, 12, 4, 2, 9]\n",
    "\n",
    "my_cmap = plt.get_cmap(\"tab10\")\n",
    "\n",
    "category_values = pd.DataFrame({'categories': categories,\n",
    "                                'values': values})\n",
    "\n",
    "category_values.sort_values('values', ascending=False, inplace=True)\n",
    "\n",
    "categories = category_values['categories'].values\n",
    "values = category_values['values'].values\n",
    "\n",
    "y = [1, 2, 3, 4, 5];\n",
    "colors = cm.Accent(y)\n",
    "\n",
    "plt.figure()\n",
    "\n",
    "plt.barh(-np.arange(len(categories)),\n",
    "         values,\n",
    "         color=['black', 'red', 'green', 'blue', 'cyan'],\n",
    "         edgecolor='none',\n",
    "         height=0.6,\n",
    "         align='center')\n",
    "\n",
    "plt.yticks(-np.arange(len(categories)),\n",
    "           ['Category {}'.format(x) for x in categories])\n",
    ";"
   ]
  },
  {
   "cell_type": "code",
   "execution_count": null,
   "metadata": {},
   "outputs": [],
   "source": []
  },
  {
   "cell_type": "code",
   "execution_count": null,
   "metadata": {},
   "outputs": [],
   "source": []
  },
  {
   "cell_type": "code",
   "execution_count": null,
   "metadata": {},
   "outputs": [],
   "source": []
  },
  {
   "cell_type": "code",
   "execution_count": null,
   "metadata": {},
   "outputs": [],
   "source": []
  }
 ],
 "metadata": {
  "kernelspec": {
   "display_name": "Python 3",
   "language": "python",
   "name": "python3"
  },
  "language_info": {
   "codemirror_mode": {
    "name": "ipython",
    "version": 3
   },
   "file_extension": ".py",
   "mimetype": "text/x-python",
   "name": "python",
   "nbconvert_exporter": "python",
   "pygments_lexer": "ipython3",
   "version": "3.7.1"
  }
 },
 "nbformat": 4,
 "nbformat_minor": 1
}
